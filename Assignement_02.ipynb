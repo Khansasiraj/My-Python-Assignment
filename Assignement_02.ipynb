{
 "cells": [
  {
   "cell_type": "markdown",
   "metadata": {},
   "source": [
    "# 1. Write a program which takes 5 inputs from user for different subject’s marks, total it and generate mark sheet using grades ?\n"
   ]
  },
  {
   "cell_type": "code",
   "execution_count": 17,
   "metadata": {},
   "outputs": [
    {
     "name": "stdout",
     "output_type": "stream",
     "text": [
      "Enter your marks of English: 50\n",
      "Enter your marks of Maths: 50\n",
      "Enter your marks of Urdu: 50\n",
      "Enter your marks of Science: 56\n",
      "Enter your marks of Computer: 50\n",
      "Your marks of English is:  50\n",
      "Your marks of Maths is:  50\n",
      "Your marks of Urdu is:  50\n",
      "Your marks of Science is:  56\n",
      "Your marks of Computer is:  50\n",
      "Your total marks is:  256\n",
      "Your Percentage is:  51.2\n",
      "You Secured C Grade : NEED TO WORK HARD\n"
     ]
    }
   ],
   "source": [
    "English = int(input(\"Enter your marks of English: \"))\n",
    "Maths = int(input(\"Enter your marks of Maths: \"))\n",
    "Urdu = int(input(\"Enter your marks of Urdu: \"))\n",
    "Science = int(input(\"Enter your marks of Science: \"))\n",
    "Computer = int(input(\"Enter your marks of Computer: \"))\n",
    "\n",
    "obtain = English + Maths + Urdu + Science + Computer\n",
    "Percentage = obtain*0.2\n",
    "\n",
    "\n",
    "print(\"Your marks of English is: \" , English)\n",
    "print(\"Your marks of Maths is: \" , Maths)\n",
    "print(\"Your marks of Urdu is: \" , Urdu)\n",
    "print(\"Your marks of Science is: \" , Science)\n",
    "print(\"Your marks of Computer is: \" , Computer)\n",
    "\n",
    "print(\"Your total marks is: \" , obtain)\n",
    "\n",
    "print(\"Your Percentage is: \" , Percentage)\n",
    "\n",
    "\n",
    "if Percentage >= 80:\n",
    "    print(\"Congratulations You Secured A+ Grade\")\n",
    "elif Percentage >= 70 and Percentage < 80:\n",
    "    print(\"Congratulations You Secured A Grade\")\n",
    "elif Percentage >= 60 and Percentage < 70:\n",
    "    print(\"Congratulations You Secured B Grade\")\n",
    "elif Percentage >= 50 and Percentage < 60:\n",
    "    print(\"You Secured C Grade : NEED TO WORK HARD\")\n",
    "else:\n",
    "    print(\"Fail\")"
   ]
  },
  {
   "cell_type": "markdown",
   "metadata": {},
   "source": [
    "# 2. Write a program which take input from user and identify that the given number is even or odd?\n"
   ]
  },
  {
   "cell_type": "code",
   "execution_count": 24,
   "metadata": {},
   "outputs": [
    {
     "name": "stdout",
     "output_type": "stream",
     "text": [
      "Enter the number : 67\n",
      "The given number is odd\n"
     ]
    }
   ],
   "source": [
    "num = int(input(\"Enter the number : \"))\n",
    "if (num % 2) == 0:\n",
    "    print(\"The given number is even\")\n",
    "else:\n",
    "    print(\"The given number is odd\")"
   ]
  },
  {
   "cell_type": "markdown",
   "metadata": {},
   "source": [
    "# 3. Write a program which print the length of the list?"
   ]
  },
  {
   "cell_type": "code",
   "execution_count": 29,
   "metadata": {},
   "outputs": [
    {
     "name": "stdout",
     "output_type": "stream",
     "text": [
      "The length of your list is :  9\n"
     ]
    }
   ],
   "source": [
    "a = [5 , 10 , 3 , 4 , 5 , 6 , 2 , 6 , 7]\n",
    "print(\"The length of your list is : \", len(a))"
   ]
  },
  {
   "cell_type": "markdown",
   "metadata": {},
   "source": [
    "# 4. Write a Python program to sum all the numeric items in a list?"
   ]
  },
  {
   "cell_type": "code",
   "execution_count": 30,
   "metadata": {},
   "outputs": [
    {
     "name": "stdout",
     "output_type": "stream",
     "text": [
      "The total sum of your list is :  48\n"
     ]
    }
   ],
   "source": [
    "a = [5 , 10 , 3 , 4 , 5 , 6 , 2 , 6 , 7]\n",
    "print(\"The total sum of your list is : \", sum(a))"
   ]
  },
  {
   "cell_type": "markdown",
   "metadata": {},
   "source": [
    "# 5. Write a Python program to get the largest number from a numeric list."
   ]
  },
  {
   "cell_type": "code",
   "execution_count": 31,
   "metadata": {},
   "outputs": [
    {
     "name": "stdout",
     "output_type": "stream",
     "text": [
      "The largest number of your list is :  10\n"
     ]
    }
   ],
   "source": [
    "a = [5 , 10 , 3 , 4 , 5 , 6 , 2 , 6 , 7]\n",
    "print(\"The largest number of your list is : \", max(a))"
   ]
  },
  {
   "cell_type": "markdown",
   "metadata": {},
   "source": [
    "# 6. Write a program that prints out all the elements of the list that are less than 5."
   ]
  },
  {
   "cell_type": "code",
   "execution_count": 1,
   "metadata": {},
   "outputs": [
    {
     "name": "stdout",
     "output_type": "stream",
     "text": [
      "The numbers which are less than 5 in your list are : \n",
      "3\n",
      "4\n",
      "2\n"
     ]
    }
   ],
   "source": [
    "a = [5 , 10 , 3 , 4 , 5 , 6 , 2 , 6 , 7]\n",
    "print(\"The numbers which are less than 5 in your list are : \")\n",
    "\n",
    "for i in a:\n",
    "    \n",
    "    if i < 5:\n",
    "\n",
    "        print(i)"
   ]
  },
  {
   "cell_type": "code",
   "execution_count": null,
   "metadata": {},
   "outputs": [],
   "source": []
  },
  {
   "cell_type": "code",
   "execution_count": null,
   "metadata": {},
   "outputs": [],
   "source": []
  }
 ],
 "metadata": {
  "kernelspec": {
   "display_name": "Python 3",
   "language": "python",
   "name": "python3"
  },
  "language_info": {
   "codemirror_mode": {
    "name": "ipython",
    "version": 3
   },
   "file_extension": ".py",
   "mimetype": "text/x-python",
   "name": "python",
   "nbconvert_exporter": "python",
   "pygments_lexer": "ipython3",
   "version": "3.7.3"
  }
 },
 "nbformat": 4,
 "nbformat_minor": 2
}
