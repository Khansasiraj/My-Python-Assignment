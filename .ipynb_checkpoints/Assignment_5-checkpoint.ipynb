{
 "cells": [
  {
   "cell_type": "markdown",
   "metadata": {},
   "source": [
    "# Question:1, Write a Python function to calculate the factorial of a number (a non-negative integer). The function accepts the number as an argument."
   ]
  },
  {
   "cell_type": "code",
   "execution_count": 10,
   "metadata": {},
   "outputs": [
    {
     "name": "stdout",
     "output_type": "stream",
     "text": [
      "You Enter Negative Number\n",
      "Factorial of  1 is 1\n",
      "Factorial of  4 is :  24\n"
     ]
    }
   ],
   "source": [
    "def factorial(num):\n",
    "    fact = 1\n",
    "    if num < 0:\n",
    "        print(\"You Enter Negative Number\")\n",
    "    elif num == 1:\n",
    "        print(\"Factorial of \" , num , \"is 1\")\n",
    "    else:\n",
    "        for i in range(1,num+1):\n",
    "            fact = fact * i\n",
    "        print(\"Factorial of \" , num , \"is : \",fact)\n",
    "        \n",
    "factorial(-2)\n",
    "factorial(1)\n",
    "factorial(4)"
   ]
  },
  {
   "cell_type": "markdown",
   "metadata": {},
   "source": [
    "\n",
    "# Question:2, Write a Python function that accepts a string and calculate the number of uppercase letters and lower case letters."
   ]
  },
  {
   "cell_type": "code",
   "execution_count": 24,
   "metadata": {},
   "outputs": [
    {
     "name": "stdout",
     "output_type": "stream",
     "text": [
      "Numbers of upper case letters are :  3\n",
      "Numbers of lower case letters are :  11\n"
     ]
    }
   ],
   "source": [
    "def charcases(mxg):\n",
    "    upper = 0\n",
    "    lower = 0\n",
    "    ABC = list(range(65, 91))\n",
    "    abc = list(range(97, 123))\n",
    "    \n",
    "    for letters in mxg:\n",
    "        if letters in (map(chr, ABC)):\n",
    "            if letters == letters.upper():\n",
    "                upper = upper + 1\n",
    "            \n",
    "        if letters in (map(chr, abc)):    \n",
    "            if letters == letters.lower():\n",
    "                lower = lower + 1    \n",
    "                 \n",
    "    print(\"Numbers of upper case letters are : \" ,upper)\n",
    "    print(\"Numbers of lower case letters are : \" ,lower)\n",
    "            \n",
    "charcases(\"I am Khansa Siraj\")"
   ]
  },
  {
   "cell_type": "markdown",
   "metadata": {},
   "source": [
    "# Question:3, Write a Python function to print the even numbers from a given list."
   ]
  },
  {
   "cell_type": "code",
   "execution_count": 29,
   "metadata": {},
   "outputs": [
    {
     "name": "stdout",
     "output_type": "stream",
     "text": [
      "The even numbers in given list are :  [44, 56, 78, 24, 56, 54, 98]\n"
     ]
    }
   ],
   "source": [
    "def evenNum(numbers):   \n",
    "    even_num = []\n",
    "    for num in numbers:\n",
    "        if num % 2 == 0:\n",
    "            even_num.append(num)\n",
    "    print(\"The even numbers in given list are : \" ,even_num)\n",
    "    \n",
    "            \n",
    "numbers = [31,44,55,56,78,24,56,54,98,99]\n",
    "evenNum(numbers)"
   ]
  },
  {
   "cell_type": "markdown",
   "metadata": {},
   "source": [
    "# Question:4 Write a Python function that checks whether a passed string is palindrome or not. Note: A palindrome is a word, phrase, or sequence that reads the same backward as forward, e.g., madam"
   ]
  },
  {
   "cell_type": "code",
   "execution_count": 34,
   "metadata": {},
   "outputs": [],
   "source": [
    "def palindrome(name):\n",
    "    mxg = name[::-1]\n",
    "    if name == mxg :\n",
    "        print(\"Given string is palindrome\")\n",
    "    else:\n",
    "        print(\"Given string is not a palindrome\")\n",
    "        "
   ]
  },
  {
   "cell_type": "code",
   "execution_count": 35,
   "metadata": {},
   "outputs": [
    {
     "name": "stdout",
     "output_type": "stream",
     "text": [
      "Given string is palindrome\n"
     ]
    }
   ],
   "source": [
    "palindrome(\"afifa\")"
   ]
  },
  {
   "cell_type": "code",
   "execution_count": 36,
   "metadata": {},
   "outputs": [
    {
     "name": "stdout",
     "output_type": "stream",
     "text": [
      "Given string is not a palindrome\n"
     ]
    }
   ],
   "source": [
    "palindrome(\"khansa\")"
   ]
  },
  {
   "cell_type": "markdown",
   "metadata": {},
   "source": [
    "# Question:5, Write a Python function that takes a number as a parameter and check the number is prime or not."
   ]
  },
  {
   "cell_type": "code",
   "execution_count": 28,
   "metadata": {},
   "outputs": [],
   "source": [
    "def primeChecker(num):\n",
    "    if num > 1:\n",
    "        for i in range(2,num):\n",
    "            if (num % i) == 0:\n",
    "                print(\"The given number\" , num ,\": is a not prime number\")\n",
    "                break\n",
    "        else:\n",
    "                print(\"The given number\" , num ,\": is a prime number\")\n",
    "    else:\n",
    "        print(\"The given number\" , num ,\": is not a prime number\")"
   ]
  },
  {
   "cell_type": "code",
   "execution_count": 29,
   "metadata": {},
   "outputs": [
    {
     "name": "stdout",
     "output_type": "stream",
     "text": [
      "The given number 4 : is a not prime number\n"
     ]
    }
   ],
   "source": [
    "primeChecker(4)"
   ]
  },
  {
   "cell_type": "code",
   "execution_count": 30,
   "metadata": {},
   "outputs": [
    {
     "name": "stdout",
     "output_type": "stream",
     "text": [
      "The given number 2 : is a prime number\n"
     ]
    }
   ],
   "source": [
    "primeChecker(2)"
   ]
  },
  {
   "cell_type": "code",
   "execution_count": 31,
   "metadata": {},
   "outputs": [
    {
     "name": "stdout",
     "output_type": "stream",
     "text": [
      "The given number -5 : is not a prime number\n"
     ]
    }
   ],
   "source": [
    "primeChecker(-5)"
   ]
  },
  {
   "cell_type": "markdown",
   "metadata": {},
   "source": [
    "# Question:6, Suppose a customer is shopping in a market and you need to print all the items which user bought from market. Write a function which accepts the multiple arguments of user shopping list and print all the items which user bought from market."
   ]
  },
  {
   "cell_type": "code",
   "execution_count": 33,
   "metadata": {},
   "outputs": [
    {
     "name": "stdout",
     "output_type": "stream",
     "text": [
      "The items of shopping list are  ('fruits', 'soap', 'grocery', 'vegetables')\n"
     ]
    }
   ],
   "source": [
    "def shopping(*items):\n",
    "    print(\"The items of shopping list are \", items)\n",
    "    \n",
    "shopping(\"fruits\",\"soap\",\"grocery\",\"vegetables\")"
   ]
  },
  {
   "cell_type": "code",
   "execution_count": null,
   "metadata": {},
   "outputs": [],
   "source": []
  }
 ],
 "metadata": {
  "kernelspec": {
   "display_name": "Python 3",
   "language": "python",
   "name": "python3"
  },
  "language_info": {
   "codemirror_mode": {
    "name": "ipython",
    "version": 3
   },
   "file_extension": ".py",
   "mimetype": "text/x-python",
   "name": "python",
   "nbconvert_exporter": "python",
   "pygments_lexer": "ipython3",
   "version": "3.7.3"
  }
 },
 "nbformat": 4,
 "nbformat_minor": 2
}
